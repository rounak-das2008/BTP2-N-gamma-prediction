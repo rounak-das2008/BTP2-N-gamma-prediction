{
 "cells": [
  {
   "cell_type": "code",
   "execution_count": 1,
   "id": "d59678e0",
   "metadata": {},
   "outputs": [
    {
     "name": "stderr",
     "output_type": "stream",
     "text": [
      "WARNING:absl:Compiled the loaded model, but the compiled metrics have yet to be built. `model.compile_metrics` will be empty until you train or evaluate the model.\n"
     ]
    },
    {
     "name": "stdout",
     "output_type": "stream",
     "text": [
      "W1 shape: (4, 6)\n",
      "b1 shape: (6,)\n",
      "W2 shape: (6, 6)\n",
      "b2 shape: (6,)\n",
      "W3 shape: (6, 1)\n",
      "b3 shape: (1,)\n",
      "\n",
      "--- Input to Hidden Layer 1 ---\n",
      "Weights (W1):\n",
      " [[ 0.01150153 -0.18402337  0.29662016 -0.03355258  0.40678275 -0.24152139]\n",
      " [ 0.22766273  0.28722724 -0.20463398 -0.00509284 -0.03708809 -0.35837764]\n",
      " [ 0.32391626 -0.3283912  -0.3683454   0.2872654   0.30434     0.4084352 ]\n",
      " [ 0.0617235   0.00662541  0.2118065  -0.21334782 -0.33907425  0.20401917]]\n",
      "Biases (b1):\n",
      " [-0.3569844  -0.44550875 -0.42905352 -0.203724    1.0236928  -0.46054736]\n",
      "\n",
      "--- Hidden Layer 1 to Hidden Layer 2 ---\n",
      "Weights (W2):\n",
      " [[ 0.27658778 -0.44625443 -0.7003487   0.7096354  -0.35786694 -0.4734219 ]\n",
      " [-0.3075649   0.6283703   0.63005006  0.44505733  0.4463593  -0.5279042 ]\n",
      " [-0.50521344  0.8596433   0.35428768 -0.02691778  0.5149964  -0.9324238 ]\n",
      " [ 0.26670456  0.15857366 -0.2393614  -0.487739   -1.1047853   0.3859686 ]\n",
      " [-0.09219442  0.04082336  0.42896405 -0.9037849   0.58956623 -0.03950221]\n",
      " [-0.09620438  0.44342884 -0.48508862  0.15949096 -0.10287532 -0.26800582]]\n",
      "Biases (b2):\n",
      " [-0.3627885   0.13847083  0.30992392  0.03471873  0.6773283  -0.08970001]\n",
      "\n",
      "--- Hidden Layer 2 to Output ---\n",
      "Weights (W3):\n",
      " [ 0.85496825 -0.9610723  -0.5289998  -0.8729872  -0.46056435  0.697159  ]\n",
      "Bias (b3):\n",
      " -0.4192754924297333\n"
     ]
    },
    {
     "name": "stderr",
     "output_type": "stream",
     "text": [
      "/var/folders/t3/tyl830xn3bz3l5tz9hv_2lzr0000gn/T/ipykernel_7200/3435733303.py:38: DeprecationWarning: Conversion of an array with ndim > 0 to a scalar is deprecated, and will error in future. Ensure you extract a single element from your array before performing this operation. (Deprecated NumPy 1.25.)\n",
      "  print(\"Bias (b3):\\n\", float(b3))\n"
     ]
    }
   ],
   "source": [
    "import numpy as np\n",
    "from tensorflow.keras.models import load_model\n",
    "\n",
    "# Load your trained LB model\n",
    "model = load_model(\"lb_model.h5\")\n",
    "\n",
    "# Layer mapping for 4-6-6-1 model:\n",
    "# 0 - Dense (input → hidden1)\n",
    "# 1 - Dropout\n",
    "# 2 - Dense (hidden1 → hidden2)\n",
    "# 3 - Dropout\n",
    "# 4 - Dense (hidden2 → output)\n",
    "\n",
    "# Extract weights and biases\n",
    "W1, b1 = model.layers[0].get_weights()  # Input → Hidden Layer 1\n",
    "W2, b2 = model.layers[2].get_weights()  # Hidden Layer 1 → Hidden Layer 2\n",
    "W3, b3 = model.layers[4].get_weights()  # Hidden Layer 2 → Output\n",
    "\n",
    "# Confirm shapes\n",
    "print(\"W1 shape:\", W1.shape)  # Should be (4,6)\n",
    "print(\"b1 shape:\", b1.shape)  # Should be (6,)\n",
    "print(\"W2 shape:\", W2.shape)  # Should be (6,6)\n",
    "print(\"b2 shape:\", b2.shape)  # Should be (6,)\n",
    "print(\"W3 shape:\", W3.shape)  # Should be (6,1)\n",
    "print(\"b3 shape:\", b3.shape)  # Should be (1,)\n",
    "\n",
    "# Display weights and biases\n",
    "print(\"\\n--- Input to Hidden Layer 1 ---\")\n",
    "print(\"Weights (W1):\\n\", W1)\n",
    "print(\"Biases (b1):\\n\", b1)\n",
    "\n",
    "print(\"\\n--- Hidden Layer 1 to Hidden Layer 2 ---\")\n",
    "print(\"Weights (W2):\\n\", W2)\n",
    "print(\"Biases (b2):\\n\", b2)\n",
    "\n",
    "print(\"\\n--- Hidden Layer 2 to Output ---\")\n",
    "print(\"Weights (W3):\\n\", W3.flatten())\n",
    "print(\"Bias (b3):\\n\", float(b3))\n",
    "\n",
    "# Optional: Save all to CSV files for reference\n",
    "np.savetxt(\"W1_input_to_hidden1.csv\", W1, delimiter=\",\")\n",
    "np.savetxt(\"b1_hidden1_bias.csv\", b1, delimiter=\",\")\n",
    "np.savetxt(\"W2_hidden1_to_hidden2.csv\", W2, delimiter=\",\")\n",
    "np.savetxt(\"b2_hidden2_bias.csv\", b2, delimiter=\",\")\n",
    "np.savetxt(\"W3_hidden2_to_output.csv\", W3, delimiter=\",\")\n",
    "np.savetxt(\"b3_output_bias.csv\", b3, delimiter=\",\")\n"
   ]
  },
  {
   "cell_type": "code",
   "execution_count": null,
   "id": "98cfb8c3",
   "metadata": {},
   "outputs": [],
   "source": []
  }
 ],
 "metadata": {
  "kernelspec": {
   "display_name": "base",
   "language": "python",
   "name": "python3"
  },
  "language_info": {
   "codemirror_mode": {
    "name": "ipython",
    "version": 3
   },
   "file_extension": ".py",
   "mimetype": "text/x-python",
   "name": "python",
   "nbconvert_exporter": "python",
   "pygments_lexer": "ipython3",
   "version": "3.11.8"
  }
 },
 "nbformat": 4,
 "nbformat_minor": 5
}
